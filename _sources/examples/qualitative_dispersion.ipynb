{
 "cells": [
  {
   "cell_type": "markdown",
   "id": "98d572eb",
   "metadata": {},
   "source": [
    "# A plane wave on a square\n",
    "\n",
    "We solve the two-dimensional wave equation to find $H: [0,T]\\to H^1(\\Omega)$ and the vector field $E: [0,T]\\to H(\\mathrm{div})$ are\n",
    "\n",
    "$$\n",
    "\\begin{aligned}\n",
    "\\partial_t E(t,x)   &= -\\nabla H(t,x),&t\\in(0,T),x\\in\\Omega\\\\\n",
    "\\partial_t H(t,x)&= -\\mathrm{div} E(t,x) + f(t,x),&t\\in(0,T),x\\in\\Omega\\\\\n",
    "H(0,x) &= \\exp(-400(y-1/2)^2),&t\\in(0,T),x\\in\\Omega\\\\\n",
    "E(0,x) &= 0,&x\\in\\Omega\\\\\n",
    "H(t,x) &= 0,&t\\in(0,T),x\\in\\partial\\Omega\n",
    "\\end{aligned}\n",
    "$$\n",
    "for $\\Omega=(0,1)^2$ and a suitable source term $f$.\n"
   ]
  },
  {
   "cell_type": "code",
   "execution_count": 1,
   "id": "ef5e1523",
   "metadata": {},
   "outputs": [],
   "source": [
    "from ngsolve import *\n",
    "import dualcellspaces as dcs\n",
    "from time import time\n",
    "from ngsolve.webgui import Draw"
   ]
  },
  {
   "cell_type": "markdown",
   "id": "e797876f",
   "metadata": {},
   "source": [
    "After the necessary imports we define some parameters and the mesh"
   ]
  },
  {
   "cell_type": "code",
   "execution_count": 2,
   "id": "4b18a2aa",
   "metadata": {},
   "outputs": [
    {
     "data": {
      "application/vnd.jupyter.widget-view+json": {
       "model_id": "9b710e9f56914b9c84436d59aa92f707",
       "version_major": 2,
       "version_minor": 0
      },
      "text/plain": [
       "WebGuiWidget(layout=Layout(height='50vh', width='100%'), value={'gui_settings': {}, 'ngsolve_version': '6.2.24…"
      ]
     },
     "metadata": {},
     "output_type": "display_data"
    }
   ],
   "source": [
    "maxh = 0.03\n",
    "tend = 2\n",
    "order = 2\n",
    "\n",
    "H0 = CF(exp(-20**2*((y-1/2)**2)))\n",
    "E0 = CF((0,0))\n",
    "\n",
    "mesh = Mesh(unit_square.GenerateMesh(maxh=maxh))\n",
    "Draw(mesh);"
   ]
  },
  {
   "cell_type": "markdown",
   "id": "a9c880f1",
   "metadata": {},
   "source": [
    "We define the spaces from `dualcellspaces`."
   ]
  },
  {
   "cell_type": "code",
   "execution_count": 3,
   "id": "8d9f24cb",
   "metadata": {},
   "outputs": [],
   "source": [
    "fesH = dcs.H1DualCells(mesh, order=order)\n",
    "fesE = dcs.HDivPrimalCells(mesh, order=order)"
   ]
  },
  {
   "cell_type": "markdown",
   "id": "75f01cde",
   "metadata": {},
   "source": [
    "To define the bilinear forms we need to define the differential symbols using special integration rules:"
   ]
  },
  {
   "cell_type": "code",
   "execution_count": 4,
   "id": "8f791b22",
   "metadata": {},
   "outputs": [],
   "source": [
    "E, dE = fesE.TnT()\n",
    "H, dH = fesH.TnT()\n",
    "\n",
    "dxH = dx(intrules=fesH.GetIntegrationRules()) #integration rule with points corresponding to the nodal basis functions of `fesH`\n",
    "dSw = dx(element_boundary=True,intrules=dcs.GetIntegrationRules(2*order+6)) #higher order integration over primal element boundaries for cell method functions\n",
    "dxw = dx(intrules=dcs.GetIntegrationRules(2*order+6)) #higher order integration over primal elements for cell method functions"
   ]
  },
  {
   "cell_type": "markdown",
   "id": "f70e0bd6",
   "metadata": {},
   "source": [
    "Assembling the bilinear forms. The mass bilinear forms assembling is optimized for the block-diagonal sparsity pattern."
   ]
  },
  {
   "cell_type": "code",
   "execution_count": 5,
   "id": "448f75fa",
   "metadata": {},
   "outputs": [],
   "source": [
    "massE = fesE.Mass(Id(2))\n",
    "massH = fesH.Mass(1)\n",
    "massinvE = massE.Inverse()\n",
    "massinvH = massH.Inverse()\n",
    "\n",
    "normal = specialcf.normal(2)\n",
    "\n",
    "Grad = BilinearForm(-H*div(dE)*dxw+H*dE*normal*dSw, geom_free=True).Assemble().mat\n",
    "\n",
    "lffH = LinearForm(dH*H0*dxH).Assemble()"
   ]
  },
  {
   "cell_type": "markdown",
   "id": "bce9b73c",
   "metadata": {},
   "source": [
    "The maximal admissible time step may be estimated using a simple power iteration"
   ]
  },
  {
   "cell_type": "code",
   "execution_count": 6,
   "id": "59612f64",
   "metadata": {},
   "outputs": [],
   "source": [
    "def estimate_tau(mat, maxsteps = 1000, tol = 1e-4):   \n",
    "    vec = mat.CreateColVector()\n",
    "    vec.SetRandom()\n",
    "    tmp = vec.CreateVector()\n",
    "    lam = 0\n",
    "    for i in range(maxsteps):\n",
    "        #print(i,end='\\r')\n",
    "        tmp.data = mat * vec\n",
    "        \n",
    "        lamnew = InnerProduct(tmp,vec)\n",
    "        tau = 2/sqrt(lamnew)\n",
    "        #res=(lamnew*vec-tmp).Norm()\n",
    "        tmp *= 1/tmp.Norm()\n",
    "        #print(lamnew)\n",
    "        diff = (tmp-vec).Norm()\n",
    "        if diff<tol: return tau\n",
    "        vec.data = tmp\n",
    "        lam = lamnew\n",
    "    print(\"did not converge, last diff = \",diff)\n",
    "    return tau"
   ]
  },
  {
   "cell_type": "code",
   "execution_count": 7,
   "id": "b519eeab",
   "metadata": {},
   "outputs": [
    {
     "name": "stdout",
     "output_type": "stream",
     "text": [
      "estimated timestep tau: 1.438193e-03\n"
     ]
    }
   ],
   "source": [
    "tau = estimate_tau(massinvH@Grad.T@massinvE@Grad)\n",
    "\n",
    "print(\"estimated timestep tau: {:e}\".format(tau))\n",
    "tau*=0.9"
   ]
  },
  {
   "cell_type": "markdown",
   "id": "b71917a3",
   "metadata": {},
   "source": [
    "It remains to set the initial conditions..."
   ]
  },
  {
   "cell_type": "code",
   "execution_count": 12,
   "id": "0c1bbb33",
   "metadata": {},
   "outputs": [],
   "source": [
    "gfE = GridFunction(fesE)\n",
    "gfH = GridFunction(fesH)\n",
    "\n",
    "gfH_history = GridFunction(fesH,multidim=0)\n",
    "\n",
    "gfH.vec.data = massinvH*lffH.vec\n",
    "gfE.vec.data[:] = 0.\n",
    "\n",
    "#scene = Draw(gfH,mesh,intpoints=dcs.GetWebGuiPoints(2),order=2,autoscale=False,min=0,max=1)\n",
    "\n",
    "gfE.vec.data = tau/2*massinvE@Grad*gfH.vec"
   ]
  },
  {
   "cell_type": "markdown",
   "id": "3409f229",
   "metadata": {},
   "source": [
    "... and start the time loop"
   ]
  },
  {
   "cell_type": "code",
   "execution_count": 9,
   "id": "06f43b80",
   "metadata": {},
   "outputs": [
    {
     "name": "stdout",
     "output_type": "stream",
     "text": [
      "\n",
      " timesteps: 1545.1491700646156\t dofs: 162256\t dofs per second: 1.328608e+08\n"
     ]
    }
   ],
   "source": [
    "t = 0.\n",
    "i = 0\n",
    "drawevery = 30\n",
    "\n",
    "\n",
    "now = time()\n",
    "nowstart = now\n",
    "\n",
    "times = []\n",
    "energies = []\n",
    "tmpH = gfH.vec.CreateVector()\n",
    "tmpE = gfE.vec.CreateVector()\n",
    "subtime = 0\n",
    "with TaskManager():\n",
    "    while t<tend:\n",
    "        if i%drawevery == 0:\n",
    "            timepassed = time()-now\n",
    "            before_energy_time = time()\n",
    "            gfH_history.AddMultiDimComponent(gfH.vec)\n",
    "            #scene.Redraw()\n",
    "            times.append(t)\n",
    "            tmpH.data = massH * gfH.vec\n",
    "            tmpE.data = massE * gfE.vec\n",
    "            energies.append(InnerProduct(gfE.vec,tmpE)+InnerProduct(gfH.vec,tmpH))\n",
    "            #print(\"\\r time = {}\\t step = {}\\t energy = {}\\t current dofs/s = {:e}\".format(t,i,energies[-1],(fesE.ndof+fesH.ndof)*drawevery/timepassed),end=\"\")\n",
    "            subtime += time()-before_energy_time\n",
    "            now = time()\n",
    "        i=i+1\n",
    "        t+=tau\n",
    "        gfH.vec.data += -tau*massinvH@Grad.T*gfE.vec\n",
    "        gfE.vec.data += tau*massinvE@Grad*gfH.vec\n",
    "\n",
    "comptime = time()-nowstart-subtime\n",
    "print(\"\\n timesteps: {}\\t dofs: {}\\t dofs per second: {:e}\".format(i, (fesE.ndof+fesH.ndof),(fesE.ndof+fesH.ndof)*tend/tau/comptime))"
   ]
  },
  {
   "cell_type": "code",
   "execution_count": 10,
   "id": "e85c89eb",
   "metadata": {},
   "outputs": [
    {
     "data": {
      "application/vnd.jupyter.widget-view+json": {
       "model_id": "dfc4920ed00d42db96397c2533e4e976",
       "version_major": 2,
       "version_minor": 0
      },
      "text/plain": [
       "WebGuiWidget(layout=Layout(height='50vh', width='100%'), value={'gui_settings': {}, 'ngsolve_version': '6.2.24…"
      ]
     },
     "metadata": {},
     "output_type": "display_data"
    }
   ],
   "source": [
    "scene = Draw(gfH_history,mesh,intpoints=dcs.GetWebGuiPoints(2),order=2,autoscale=False,min=0,max=1,animate=True)"
   ]
  },
  {
   "cell_type": "markdown",
   "id": "e33fe926",
   "metadata": {},
   "source": [
    "We observe preservation of a modified (discrete) energy:"
   ]
  },
  {
   "cell_type": "code",
   "execution_count": 13,
   "id": "bb7a7edd",
   "metadata": {},
   "outputs": [
    {
     "data": {
      "image/png": "[encoded data removed]",
      "text/plain": [
       "<Figure size 432x288 with 1 Axes>"
      ]
     },
     "metadata": {
      "needs_background": "light"
     },
     "output_type": "display_data"
    }
   ],
   "source": [
    "import matplotlib.pyplot as pl\n",
    "pl.plot(times,energies);\n",
    "pl.ylim((0,0.1));"
   ]
  },
  {
   "cell_type": "code",
   "execution_count": null,
   "id": "4bb6e20d-7dee-4653-a5c3-647663d4037d",
   "metadata": {},
   "outputs": [],
   "source": []
  }
 ],
 "metadata": {
  "kernelspec": {
   "display_name": "Python 3 (ipykernel)",
   "language": "python",
   "name": "python3"
  },
  "language_info": {
   "codemirror_mode": {
    "name": "ipython",
    "version": 3
   },
   "file_extension": ".py",
   "mimetype": "text/x-python",
   "name": "python",
   "nbconvert_exporter": "python",
   "pygments_lexer": "ipython3",
   "version": "3.10.12"
  }
 },
 "nbformat": 4,
 "nbformat_minor": 5
}
