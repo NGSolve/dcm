{
 "cells": [
  {
   "cell_type": "markdown",
   "id": "75f138b9",
   "metadata": {},
   "source": [
    "# Electromagnetic 3d waveguide\n",
    "\n",
    "\n",
    "### by M. Wess, 2024\n",
    "*This Notebook is part of the `dualcellspaces` [documentation](https://ngsolve.github.io/dcm) for the addon package implementing the Dual Cell method in [NGSolve](https://ngsolve.org).*"
   ]
  },
  {
   "cell_type": "code",
   "execution_count": 1,
   "id": "legal-sunrise",
   "metadata": {
    "scrolled": true
   },
   "outputs": [],
   "source": [
    "#import libraries\n",
    "\n",
    "from ngsolve import *\n",
    "# import netgen.gui\n",
    "import dualcellspaces as dcs\n",
    "from ngsolve.webgui import Draw\n",
    "\n",
    "import numpy as np\n",
    "import matplotlib.pyplot as pl"
   ]
  },
  {
   "cell_type": "code",
   "execution_count": 2,
   "id": "4ab0d5bc",
   "metadata": {},
   "outputs": [],
   "source": [
    "#set parameters\n",
    "\n",
    "omega = 10\n",
    "\n",
    "lx = 1\n",
    "ly = 1\n",
    "lz = 4\n",
    "\n",
    "#radius of obstacle\n",
    "rad = 0.3\n",
    "\n",
    "maxh = 0.2\n",
    "order = 2\n",
    "\n",
    "#experimentally stable timestep\n",
    "tau = 0.08*maxh/(order+1)**2 \n",
    "\n",
    "c=5\n",
    "t0=1       "
   ]
  },
  {
   "cell_type": "code",
   "execution_count": 3,
   "id": "3cd1708b",
   "metadata": {
    "scrolled": false
   },
   "outputs": [
    {
     "data": {
      "application/vnd.jupyter.widget-view+json": {
       "model_id": "ab6268f711344ed5b8049efef1c2563a",
       "version_major": 2,
       "version_minor": 0
      },
      "text/plain": [
       "WebGuiWidget(layout=Layout(height='50vh', width='100%'), value={'gui_settings': {'camera': {'euler_angles': [-…"
      ]
     },
     "metadata": {},
     "output_type": "display_data"
    },
    {
     "data": {
      "text/plain": [
       "BaseWebGuiScene"
      ]
     },
     "execution_count": 3,
     "metadata": {},
     "output_type": "execute_result"
    }
   ],
   "source": [
    "from netgen.occ import *\n",
    "wg = Box(Pnt(0,0,0),Pnt(lx,ly,lz))\n",
    "wg.faces.Min(Z).name = 'inflow'\n",
    "\n",
    "sphere = Sphere(Pnt(lx/2,ly/2,lz/2),rad)\n",
    "\n",
    "geo = OCCGeometry(wg-sphere)\n",
    "\n",
    "mesh = Mesh(geo.GenerateMesh(maxh=maxh))\n",
    "mesh.Curve(2*order)\n",
    "Draw(mesh, clipping={\"y\":1, \"z\":0}, euler_angles=[-120,2,-15])\n"
   ]
  },
  {
   "cell_type": "code",
   "execution_count": 4,
   "id": "dd3c2554",
   "metadata": {},
   "outputs": [
    {
     "name": "stdout",
     "output_type": "stream",
     "text": [
      "total DoFs: 1280304\n"
     ]
    }
   ],
   "source": [
    "fes_E = dcs.HCurlDualCells3D(mesh, order=order,dirichlet = mesh.Boundaries('.*'))\n",
    "fes_H = dcs.HCurlPrimalCells3D(mesh,order=order)\n",
    "\n",
    "fes = fes_E*fes_H\n",
    "print(\"total DoFs:\",fes.ndof)\n",
    "gf = GridFunction(fes)\n",
    "gfE, gfH = gf.components\n",
    "\n",
    "\n",
    "#integral symbols with special integration rules\n",
    "dxE = dx(intrules=fes_E.GetIntegrationRules())\n",
    "dsE = ds(intrules=fes_E.GetIntegrationRules(),definedon=mesh.Boundaries('inflow'))\n",
    "dxH = dx(intrules=fes_H.GetIntegrationRules())\n",
    "\n",
    "dxw = dx(intrules=dcs.GetIntegrationRules(2*order+4))\n",
    "dSw = dx(element_boundary=True,intrules=dcs.GetIntegrationRules(2*order+4))\n",
    "\n",
    "\n",
    "#mixed bilinear form\n",
    "E,dE = fes_E.TnT()\n",
    "H,dH = fes_H.TnT()\n",
    "\n",
    "normal = specialcf.normal(3)\n",
    "bf_mixed = BilinearForm(E*curl(dH)*dxw+E*Cross(dH,normal)*dSw, geom_free=True).Assemble().mat"
   ]
  },
  {
   "cell_type": "code",
   "execution_count": 5,
   "id": "5c41c4d6",
   "metadata": {},
   "outputs": [
    {
     "name": "stderr",
     "output_type": "stream",
     "text": [
      "used dof inconsistency\n",
      "(silence this warning by setting BilinearForm(...check_unused=False) )\n"
     ]
    }
   ],
   "source": [
    "#prepare mass operators\n",
    "with TaskManager():\n",
    "    massH_inv = fes_H.Mass(1).Inverse()\n",
    "    bfm_E = fes_E.Mass(1)\n",
    "    massE_inv = bfm_E.Inverse(freedofs=fes_E.FreeDofs())\n",
    "    massE_surf = BilinearForm(E.Trace()*dE.Trace()*dsE).Assemble().mat#\n",
    "    massE_surf = massE_surf.DeleteZeroElements(1e-8)\n",
    "    massE_surf_inv = massE_surf.Inverse(inverse='sparsecholesky',freedofs=fes_E.GetDofs(mesh.Boundaries('inflow')))"
   ]
  },
  {
   "cell_type": "code",
   "execution_count": 6,
   "id": "wrong-reflection",
   "metadata": {},
   "outputs": [
    {
     "data": {
      "image/png": "[encoded data removed]",
      "text/plain": [
       "<Figure size 432x288 with 1 Axes>"
      ]
     },
     "metadata": {
      "needs_background": "light"
     },
     "output_type": "display_data"
    }
   ],
   "source": [
    "#dirichlet data\n",
    "plx = pi/lx\n",
    "gfe=GridFunction(fes_E)\n",
    "\n",
    "\n",
    "lfr = LinearForm(InnerProduct(CF((0,sin(x*plx),0)),dE.Trace())*dsE).Assemble().vec\n",
    "gfe.vec.data = massE_surf_inv*lfr\n",
    "#Draw(gfe)\n",
    "\n",
    "        \n",
    "rhsEfunc = lambda t: exp(-c*(t<t0)*(t0-t)**2)*sin(omega*t)*gfe.vec\n",
    "\n",
    "#visualize dirichlet data over time\n",
    "ts = np.arange(0,5,0.01)\n",
    "pl.plot(ts,np.exp(-c*(ts<t0)*(t0-ts)**2)*np.sin(omega*ts))\n",
    "pl.show()\n"
   ]
  },
  {
   "cell_type": "code",
   "execution_count": 7,
   "id": "934048e2",
   "metadata": {
    "scrolled": false
   },
   "outputs": [],
   "source": [
    "#Draw solution\n",
    "#scenee = Draw (gfE[1], mesh, \"E\", order=2, draw_surf=False, clipping={\"y\":1, \"z\":0},min=-0.5,max=0.5,autoscale=False,points=dcs.GetWebGuiPoints(2),settings = {\"Objects\" : {\"Clipping Plane\" : True}}, euler_angles=[-120,2,-15])\n",
    "#sceneh = Draw (gfH.Operator(\"altshape\")[2], mesh, \"H\", order=2, draw_surf=False, clipping={\"y\":1, \"z\":0},min=-0.5,max=0.5,autoscale=False)\n",
    "gfE_anim = GridFunction(fes_E,multidim=0)"
   ]
  },
  {
   "cell_type": "code",
   "execution_count": 8,
   "id": "f0b56a40",
   "metadata": {},
   "outputs": [],
   "source": [
    "from time import time\n",
    "\n",
    "drawevery = 100\n",
    "tend = 4\n",
    "\n",
    "t = 0.\n",
    "i = 0\n",
    "\n",
    "gfH.vec[:]=0\n",
    "gfE.vec[:]=0\n",
    "\n",
    "tmpE = gfE.vec.CreateVector()\n",
    "\n",
    "now = time()\n",
    "timepassed = 0\n",
    "with TaskManager():\n",
    "    gfH.vec.data += -tau/2*massH_inv@bf_mixed*gfE.vec\n",
    "    while t<tend:\n",
    "        \n",
    "        t+=tau       \n",
    "        i+=1\n",
    "        tmpE.data = tau*bf_mixed.T*gfH.vec+bfm_E*(gfE.vec-rhsEfunc(t))\n",
    "        gfE.vec.data = rhsEfunc(t)\n",
    "        gfE.vec.data += massE_inv*tmpE\n",
    "        \n",
    "        gfH.vec.data += -tau*massH_inv@bf_mixed*gfE.vec\n",
    "        if i%drawevery == 0:\n",
    "            timepassed += time()-now\n",
    "            #scenee.Redraw()\n",
    "            #sceneh.Redraw()\n",
    "            gfE_anim.AddMultiDimComponent(gfE.vec)\n",
    "            #print(\"\\r time = {}, step = {},  {:e} dofs/s\".format(t,i,drawevery*fes.ndof/timepassed),end=\"\")\n",
    "            now = time()\n",
    "\n"
   ]
  },
  {
   "cell_type": "code",
   "execution_count": 9,
   "id": "1225aeff",
   "metadata": {},
   "outputs": [
    {
     "name": "stdout",
     "output_type": "stream",
     "text": [
      "finshed with an average of 9.010176e+07 dofs/s"
     ]
    },
    {
     "data": {
      "application/vnd.jupyter.widget-view+json": {
       "model_id": "a07db28ac6844810a845e72a753a07dd",
       "version_major": 2,
       "version_minor": 0
      },
      "text/plain": [
       "WebGuiWidget(layout=Layout(height='50vh', width='100%'), value={'gui_settings': {'eval': 1, 'Objects': {'Clipp…"
      ]
     },
     "metadata": {},
     "output_type": "display_data"
    }
   ],
   "source": [
    "print(\"finshed with an average of {:e} dofs/s\".format(i*fes.ndof/timepassed),end=\"\")\n",
    "Draw (gfE_anim, mesh, order=2, animate = True, draw_surf=False, clipping={\"y\":1, \"z\":0},min=-0.5,max=0.5,autoscale=False,points=dcs.GetWebGuiPoints(2),settings = {\"eval\": 1, \"Objects\" : {\"Clipping Plane\" : True}}, euler_angles=[-120,2,-15]);"
   ]
  },
  {
   "cell_type": "code",
   "execution_count": null,
   "id": "e5874b2f",
   "metadata": {},
   "outputs": [],
   "source": []
  }
 ],
 "metadata": {
  "kernelspec": {
   "display_name": "Python 3 (ipykernel)",
   "language": "python",
   "name": "python3"
  },
  "language_info": {
   "codemirror_mode": {
    "name": "ipython",
    "version": 3
   },
   "file_extension": ".py",
   "mimetype": "text/x-python",
   "name": "python",
   "nbconvert_exporter": "python",
   "pygments_lexer": "ipython3",
   "version": "3.10.12"
  }
 },
 "nbformat": 4,
 "nbformat_minor": 5
}
