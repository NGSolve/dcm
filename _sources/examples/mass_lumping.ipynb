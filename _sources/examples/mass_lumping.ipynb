{
 "cells": [
  {
   "cell_type": "markdown",
   "id": "c338b519",
   "metadata": {},
   "source": [
    "# Mass Lumping for dual cell spaces\n",
    "\n",
    "### by M. Wess, 2024\n",
    "*This Notebook is part of the `dualcellspaces` [documentation](https://ngsolve.github.io/dcm) for the addon package implementing the Dual Cell method in [NGSolve](https://ngsolve.org).*"
   ]
  },
  {
   "cell_type": "code",
   "execution_count": 3,
   "id": "018565f5",
   "metadata": {},
   "outputs": [],
   "source": [
    "from ngsolve import *\n",
    "import dualcellspaces as dcs\n",
    "import matplotlib.pyplot as pl\n",
    "import numpy as np"
   ]
  },
  {
   "cell_type": "markdown",
   "id": "528f9969",
   "metadata": {},
   "source": [
    "## Dual cell integration rules\n",
    "\n",
    "Since our spaces consist of functions which are smooth (polynomials) on the single cells (instead of the whole elements) we cannot use the standard integration rules provided by `NGSolve` for computing itegrals.\n",
    "\n",
    "The `dualcellspaces` package provides `dualcellspaces.GetIntegrationRules`, which returns rules which respect the cell structure. These are not the integration nodes used for generating the spaces!"
   ]
  },
  {
   "cell_type": "code",
   "execution_count": 4,
   "id": "d970ac23",
   "metadata": {},
   "outputs": [
    {
     "name": "stdout",
     "output_type": "stream",
     "text": [
      "{<ET.SEGM: 1>: <ngsolve.fem.IntegrationRule object at 0x790df8a87db0>, <ET.TRIG: 10>: <ngsolve.fem.IntegrationRule object at 0x790df8a87eb0>, <ET.TET: 20>: <ngsolve.fem.IntegrationRule object at 0x790df8a87fb0>}\n",
      "ET.SEGM\n",
      " locnr = -1: (0.105662, 0, 0), weight = 0.25\n",
      " locnr = -1: (0.394338, 0, 0), weight = 0.25\n",
      " locnr = -1: (0.894338, 0, 0), weight = 0.25\n",
      " locnr = -1: (0.605662, 0, 0), weight = 0.25\n",
      "\n",
      "ET.TRIG\n",
      " locnr = -1: (0.803561, 0.0982194, 0), weight = 0.0536948\n",
      " locnr = -1: (0.555556, 0.0778847, 0), weight = 0.0416667\n",
      " locnr = -1: (0.555556, 0.36656, 0), weight = 0.0416667\n",
      " locnr = -1: (0.418661, 0.290669, 0), weight = 0.0296385\n",
      " locnr = -1: (0.0982194, 0.803561, 0), weight = 0.0536948\n",
      " locnr = -1: (0.36656, 0.555556, 0), weight = 0.0416667\n",
      " locnr = -1: (0.0778847, 0.555556, 0), weight = 0.0416667\n",
      " locnr = -1: (0.290669, 0.418661, 0), weight = 0.0296385\n",
      " locnr = -1: (0.0982194, 0.0982194, 0), weight = 0.0536948\n",
      " locnr = -1: (0.0778847, 0.36656, 0), weight = 0.0416667\n",
      " locnr = -1: (0.36656, 0.0778847, 0), weight = 0.0416667\n",
      " locnr = -1: (0.290669, 0.290669, 0), weight = 0.0296385\n",
      "\n",
      "ET.TET\n",
      " locnr = -1: (0.725312, 0.0915628, 0.0915628), weight = 0.00999851\n",
      " locnr = -1: (0.51153, 0.0733767, 0.0733767), weight = 0.00616387\n",
      " locnr = -1: (0.51153, 0.0733767, 0.341717), weight = 0.00616387\n",
      " locnr = -1: (0.391248, 0.0610607, 0.273846), weight = 0.00365801\n",
      " locnr = -1: (0.51153, 0.341717, 0.0733767), weight = 0.00616387\n",
      " locnr = -1: (0.391248, 0.273846, 0.0610607), weight = 0.00365801\n",
      " locnr = -1: (0.391248, 0.273846, 0.273846), weight = 0.00365801\n",
      " locnr = -1: (0.316355, 0.227882, 0.227882), weight = 0.0022025\n",
      " locnr = -1: (0.0915628, 0.725312, 0.0915628), weight = 0.00999851\n",
      " locnr = -1: (0.341717, 0.51153, 0.0733767), weight = 0.00616387\n",
      " locnr = -1: (0.0733767, 0.51153, 0.0733767), weight = 0.00616387\n",
      " locnr = -1: (0.273846, 0.391248, 0.0610607), weight = 0.00365801\n",
      " locnr = -1: (0.0733767, 0.51153, 0.341717), weight = 0.00616387\n",
      " locnr = -1: (0.273846, 0.391248, 0.273846), weight = 0.00365801\n",
      " locnr = -1: (0.0610607, 0.391248, 0.273846), weight = 0.00365801\n",
      " locnr = -1: (0.227882, 0.316355, 0.227882), weight = 0.0022025\n",
      " locnr = -1: (0.0915628, 0.0915628, 0.725312), weight = 0.00999851\n",
      " locnr = -1: (0.0733767, 0.341717, 0.51153), weight = 0.00616387\n",
      " locnr = -1: (0.341717, 0.0733767, 0.51153), weight = 0.00616387\n",
      " locnr = -1: (0.273846, 0.273846, 0.391248), weight = 0.00365801\n",
      " locnr = -1: (0.0733767, 0.0733767, 0.51153), weight = 0.00616387\n",
      " locnr = -1: (0.0610607, 0.273846, 0.391248), weight = 0.00365801\n",
      " locnr = -1: (0.273846, 0.0610607, 0.391248), weight = 0.00365801\n",
      " locnr = -1: (0.227882, 0.227882, 0.316355), weight = 0.0022025\n",
      " locnr = -1: (0.0915628, 0.0915628, 0.0915628), weight = 0.00999851\n",
      " locnr = -1: (0.0733767, 0.0733767, 0.341717), weight = 0.00616387\n",
      " locnr = -1: (0.0733767, 0.341717, 0.0733767), weight = 0.00616387\n",
      " locnr = -1: (0.0610607, 0.273846, 0.273846), weight = 0.00365801\n",
      " locnr = -1: (0.341717, 0.0733767, 0.0733767), weight = 0.00616387\n",
      " locnr = -1: (0.273846, 0.0610607, 0.273846), weight = 0.00365801\n",
      " locnr = -1: (0.273846, 0.273846, 0.0610607), weight = 0.00365801\n",
      " locnr = -1: (0.227882, 0.227882, 0.227882), weight = 0.0022025\n",
      "\n"
     ]
    },
    {
     "data": {
      "image/png": "[encoded data removed]",
      "text/plain": [
       "<Figure size 432x288 with 1 Axes>"
      ]
     },
     "metadata": {
      "needs_background": "light"
     },
     "output_type": "display_data"
    }
   ],
   "source": [
    "irs = dcs.GetIntegrationRules(2)\n",
    "print(irs)\n",
    "\n",
    "for et in irs:\n",
    "  print(et)\n",
    "  print(irs[et])\n",
    "\n",
    "pl.plot([0,1,0,0],[0,0,1,0]);\n",
    "pl.plot([0,1/3,0.5,1/3,0.5],[0.5,1/3,0,1/3,0.5]);\n",
    "\n",
    "trig_points = np.array(irs[TRIG].points)\n",
    "px,py = trig_points[:,0],trig_points[:,1]\n",
    "pl.plot(px,py,'ob');"
   ]
  },
  {
   "cell_type": "markdown",
   "id": "7e3da2ae",
   "metadata": {},
   "source": [
    "Using these integration rules we may compute the exact mass matrices"
   ]
  },
  {
   "cell_type": "code",
   "execution_count": 5,
   "id": "2af086b6",
   "metadata": {},
   "outputs": [
    {
     "data": {
      "image/png": "[encoded data removed]",
      "text/plain": [
       "<Figure size 432x288 with 1 Axes>"
      ]
     },
     "metadata": {
      "needs_background": "light"
     },
     "output_type": "display_data"
    }
   ],
   "source": [
    "order = 3\n",
    "\n",
    "irs = dcs.GetIntegrationRules(2*order+2)\n",
    "mesh = Mesh(unit_square.GenerateMesh(maxh=0.5))\n",
    "#fes = dcs.HCurlDualCells(mesh,order=order)\n",
    "fes = dcs.H1PrimalCells(mesh,order=order)\n",
    "u,v = fes.TnT()\n",
    "\n",
    "M = BilinearForm(u*v*dx(intrules=irs)).Assemble().mat\n",
    "pl.spy(M.ToDense());"
   ]
  },
  {
   "cell_type": "markdown",
   "id": "6a982b7c",
   "metadata": {},
   "source": [
    "## Mass lumping\n",
    "\n",
    "We want to explot the fact that we used nodal basis functions with respect to the nodes of Gauss-Radau integration rules. Thus we need to assemble the mass matrices approximated by these integration rules."
   ]
  },
  {
   "cell_type": "code",
   "execution_count": 7,
   "id": "bf7ebf75",
   "metadata": {},
   "outputs": [
    {
     "data": {
      "image/png": "[encoded data removed]",
      "text/plain": [
       "<Figure size 432x288 with 1 Axes>"
      ]
     },
     "metadata": {
      "needs_background": "light"
     },
     "output_type": "display_data"
    },
    {
     "data": {
      "image/png": "[encoded data removed]",
      "text/plain": [
       "<Figure size 432x288 with 1 Axes>"
      ]
     },
     "metadata": {
      "needs_background": "light"
     },
     "output_type": "display_data"
    },
    {
     "data": {
      "image/png": "[encoded data removed]",
      "text/plain": [
       "<Figure size 432x288 with 1 Axes>"
      ]
     },
     "metadata": {
      "needs_background": "light"
     },
     "output_type": "display_data"
    }
   ],
   "source": [
    "irs_fes = fes.GetIntegrationRules()\n",
    "\n",
    "pl.plot([0,1,0,0],[0,0,1,0]);\n",
    "pl.plot([0,1/3,0.5,1/3,0.5],[0.5,1/3,0,1/3,0.5]);\n",
    "\n",
    "trig_points = np.array(irs_fes[TRIG].points)\n",
    "px,py = trig_points[:,0],trig_points[:,1]\n",
    "pl.plot(px,py,'ob');\n",
    "\n",
    "M = BilinearForm(u*v*dx(intrules=irs_fes)).Assemble().mat\n",
    "pl.figure()\n",
    "pl.spy(M.ToDense());\n",
    "M_diag = M.DeleteZeroElements(1e-10)\n",
    "pl.figure()\n",
    "pl.spy(M_diag.ToDense());"
   ]
  },
  {
   "cell_type": "markdown",
   "id": "3d4d9ccf",
   "metadata": {},
   "source": [
    "### Exercises:\n",
    "* Explain why we need apply the function `DeleteZeroElements`. Use the function `BaseMatrix.nze` to check the number of non-zero elements in the assembled matrix\n",
    "* Look at the sparsity pattern of the exact and lumped mass matrix for the `HCurlDualCells` and `H1DualCells` spaces."
   ]
  },
  {
   "cell_type": "markdown",
   "id": "2759b9b8",
   "metadata": {},
   "source": [
    "## Application of (inverse) lumped mass matrices\n",
    "\n",
    "Since the entries corresponding to basis functions of the dual elements are not stored together the block structure is less obvious here. Exploiting this block structure is implemented in the finite element spaces. The mass matrices may be accessed via `FESpace.Mass`:"
   ]
  },
  {
   "cell_type": "code",
   "execution_count": null,
   "id": "1a69ce2b",
   "metadata": {},
   "outputs": [],
   "source": [
    "from time import time\n",
    "\n",
    "order = 3\n",
    "\n",
    "irs = dcs.GetIntegrationRules(2*order+2)\n",
    "mesh = Mesh(unit_cube.GenerateMesh(maxh=0.3))\n",
    "fes = dcs.HCurlDualCells(mesh,order=order)\n",
    "\n",
    "print(\"ndof = \",fes.ndof)\n",
    "\n",
    "irs_fes = fes.GetIntegrationRules()\n",
    "u,v = fes.TnT()\n",
    "\n",
    "with TaskManager():\n",
    "  now = time()\n",
    "  M_exact = BilinearForm(u*v*dx(intrules=irs)).Assemble().mat\n",
    "  exacttime = time()-now\n",
    "\n",
    "  now = time()\n",
    "  M_supersparse = fes.Mass()\n",
    "  stime = time()-now\n",
    "\n",
    "  print('#### assembling ####')\n",
    "  print('exact: {}s'.format(exacttime))\n",
    "  print('supersparse: {}s'.format(stime))\n",
    "\n",
    "\n",
    "  now = time()\n",
    "  M_exact_inv = M_exact.Inverse(inverse='sparsecholesky')\n",
    "  exacttime = time()-now\n",
    "\n",
    "  now = time()\n",
    "  with TaskManager():\n",
    "    M_supersparse_inv = M_supersparse.Inverse()\n",
    "  stime = time()-now\n",
    "  print('#### factorization ####')\n",
    "  print('exact: {}s'.format(exacttime))\n",
    "  print('supersparse: {}s'.format(stime))\n",
    "\n",
    "  n = 10\n",
    "  tmp = M_exact.CreateVector()\n",
    "  tmp.SetRandom()\n",
    "  tmp2 = M_exact.CreateVector()\n",
    "\n",
    "  now = time()\n",
    "  for i in range(n):\n",
    "    tmp2.data = M_exact_inv * tmp\n",
    "  exacttime = time()-now\n",
    "\n",
    "  now = time()\n",
    "  for i in range(n):\n",
    "    tmp2.data = M_supersparse_inv * tmp\n",
    "  stime = time()-now\n",
    "\n",
    "  print('#### application ####')\n",
    "  print('exact: {}s'.format(exacttime))\n",
    "  print('supersparse: {}s'.format(stime))"
   ]
  }
 ],
 "metadata": {
  "kernelspec": {
   "display_name": "Python 3 (ipykernel)",
   "language": "python",
   "name": "python3"
  },
  "language_info": {
   "codemirror_mode": {
    "name": "ipython",
    "version": 3
   },
   "file_extension": ".py",
   "mimetype": "text/x-python",
   "name": "python",
   "nbconvert_exporter": "python",
   "pygments_lexer": "ipython3",
   "version": "3.10.12"
  }
 },
 "nbformat": 4,
 "nbformat_minor": 5
}
