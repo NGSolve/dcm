{
 "cells": [
  {
   "cell_type": "markdown",
   "id": "172ba96e",
   "metadata": {},
   "source": [
    "# Basics on dual cell spaces\n",
    "\n",
    "### by M. Wess, 2024\n",
    "*This Notebook is part of the `dualcellspaces` [documentation](https://ngsolve.github.io/dcm) for the addon package implementing the Dual Cell method in [NGSolve](https://ngsolve.org).*\n"
   ]
  },
  {
   "cell_type": "markdown",
   "id": "ff0d63e8",
   "metadata": {},
   "source": [
    "We start with doing the necessary imports"
   ]
  },
  {
   "cell_type": "code",
   "execution_count": 1,
   "id": "03783517",
   "metadata": {},
   "outputs": [],
   "source": [
    "from ngsolve import *\n",
    "import dualcellspaces as dcs\n",
    "from ngsolve.webgui import Draw"
   ]
  },
  {
   "cell_type": "markdown",
   "id": "9890c972",
   "metadata": {},
   "source": [
    "The finite element spaces calles `XXPrimalCells`, `XXDualCells`, for the spaces on the primal and dual mesh respectively, where `XX` stands for `H1`, `HCurl`, `HDiv`."
   ]
  },
  {
   "cell_type": "markdown",
   "id": "f01df197",
   "metadata": {},
   "source": [
    "## The space `H1PrimalCells`\n",
    "\n",
    "First we study the `H1` space on the prmal mesh in two dimensions.\n",
    "\n",
    "![H1PrimalCells](https://ngsolve.github.io/dcm/_images/mapping_primal_h1.png)"
   ]
  },
  {
   "cell_type": "code",
   "execution_count": 2,
   "id": "dcf9baac",
   "metadata": {},
   "outputs": [
    {
     "data": {
      "application/vnd.jupyter.widget-view+json": {
       "model_id": "847c52e47b55418fb8c4553cce5908aa",
       "version_major": 2,
       "version_minor": 0
      },
      "text/plain": [
       "WebGuiWidget(layout=Layout(height='50vh', width='100%'), value={'gui_settings': {}, 'ngsolve_version': '6.2.24…"
      ]
     },
     "metadata": {},
     "output_type": "display_data"
    },
    {
     "name": "stdout",
     "output_type": "stream",
     "text": [
      "number of elements in mesh:  2\n",
      "number of dofs per element:  7\n"
     ]
    }
   ],
   "source": [
    "mesh = Mesh(unit_square.GenerateMesh())\n",
    "Draw(mesh);\n",
    "h1 = dcs.H1PrimalCells(mesh,order = 1)\n",
    "print(\"number of elements in mesh: \", mesh.ne)\n",
    "print(\"number of dofs per element: \", int(h1.ndof/mesh.ne))"
   ]
  },
  {
   "cell_type": "markdown",
   "id": "be7eb1e0",
   "metadata": {},
   "source": [
    "Let's take a look at the basis functions:"
   ]
  },
  {
   "cell_type": "code",
   "execution_count": 3,
   "id": "b569e91d",
   "metadata": {},
   "outputs": [
    {
     "data": {
      "application/vnd.jupyter.widget-view+json": {
       "model_id": "6f555430ad9b42e98550d97e9d36a0dd",
       "version_major": 2,
       "version_minor": 0
      },
      "text/plain": [
       "WebGuiWidget(layout=Layout(height='50vh', width='100%'), value={'gui_settings': {'camera': {'euler_angles': [-…"
      ]
     },
     "metadata": {},
     "output_type": "display_data"
    }
   ],
   "source": [
    "gfu = GridFunction(h1,multidim = h1.ndof)\n",
    "for i in range(h1.ndof):\n",
    "    gfu.vecs[i][i] = 0.2\n",
    "Draw(gfu, animate = True, min = 0, max = 0.2, intpoints = dcs.GetWebGuiPoints(2),order = 2, deformation = True, euler_angles =[-45,-6,25]);\n"
   ]
  },
  {
   "cell_type": "markdown",
   "id": "036ab971",
   "metadata": {},
   "source": [
    "The basis functions are nodal basis functions with respect to a certain integration rule. We may extract the integration rule from the space:"
   ]
  },
  {
   "cell_type": "code",
   "execution_count": 4,
   "id": "e7820a5c",
   "metadata": {},
   "outputs": [
    {
     "data": {
      "image/png": "[encoded data removed]",
      "text/plain": [
       "<Figure size 432x288 with 1 Axes>"
      ]
     },
     "metadata": {
      "needs_background": "light"
     },
     "output_type": "display_data"
    }
   ],
   "source": [
    "import matplotlib.pyplot as pl\n",
    "import numpy as np\n",
    "\n",
    "irs_h1 = h1.GetIntegrationRules()\n",
    "\n",
    "pl.plot([0,1,0,0],[0,0,1,0]);\n",
    "pl.plot([0,1/3,0.5,1/3,0.5],[0.5,1/3,0,1/3,0.5]);\n",
    "\n",
    "trig_points = np.array(irs_h1[TRIG].points)\n",
    "px,py = trig_points[:,0],trig_points[:,1]\n",
    "pl.plot(px,py,'ob');"
   ]
  },
  {
   "cell_type": "markdown",
   "id": "a97b20ca",
   "metadata": {},
   "source": [
    "### Exercises\n",
    "* Play around with orders: how many DoFs per element do you expect for the `H1PrimalCells` space depending on the polynomial order?\n",
    "* Change the space to `H1DualCells`. How many global DoFs do you expect depending on the polynomial order?"
   ]
  },
  {
   "cell_type": "markdown",
   "id": "7b5b62cc",
   "metadata": {},
   "source": [
    "## The space `HCurlDualCells`\n",
    "\n",
    "We study the `HCurl` space on the prmal mesh in two dimensions.\n",
    "\n",
    "![H1PrimalCells](https://ngsolve.github.io/dcm/_images/mapping_dual_hcurl.png)"
   ]
  },
  {
   "cell_type": "markdown",
   "id": "550083ae",
   "metadata": {},
   "source": [
    "We create the space `HCurlDualCells` on a mesh with more elements to have inner vertices."
   ]
  },
  {
   "cell_type": "code",
   "execution_count": 5,
   "id": "ee74dc13",
   "metadata": {},
   "outputs": [
    {
     "data": {
      "application/vnd.jupyter.widget-view+json": {
       "model_id": "5a18f4c000ea4bf08c3cd9608d8e1797",
       "version_major": 2,
       "version_minor": 0
      },
      "text/plain": [
       "WebGuiWidget(layout=Layout(height='50vh', width='100%'), value={'gui_settings': {}, 'ngsolve_version': '6.2.24…"
      ]
     },
     "metadata": {},
     "output_type": "display_data"
    },
    {
     "name": "stdout",
     "output_type": "stream",
     "text": [
      "number of (primal) elements in mesh:  14\n",
      "number of dofs per element:  3.5714285714285716\n"
     ]
    }
   ],
   "source": [
    "mesh_curl = Mesh(unit_square.GenerateMesh(maxh=0.435))\n",
    "Draw(mesh_curl);\n",
    "hcurl = dcs.HCurlDualCells(mesh_curl,order = 0)\n",
    "print(\"number of (primal) elements in mesh: \", mesh_curl.ne)\n",
    "print(\"number of dofs per element: \", hcurl.ndof/mesh_curl.ne)"
   ]
  },
  {
   "cell_type": "markdown",
   "id": "87cd4b6b",
   "metadata": {},
   "source": [
    "Again we may take a look at the corresponding integration rules:"
   ]
  },
  {
   "cell_type": "code",
   "execution_count": 6,
   "id": "dfc66ea7",
   "metadata": {},
   "outputs": [
    {
     "name": "stdout",
     "output_type": "stream",
     "text": [
      "14 14\n"
     ]
    },
    {
     "data": {
      "image/png": "[encoded data removed]",
      "text/plain": [
       "<Figure size 432x288 with 1 Axes>"
      ]
     },
     "metadata": {
      "needs_background": "light"
     },
     "output_type": "display_data"
    }
   ],
   "source": [
    "irs_hcurl = hcurl.GetIntegrationRules()\n",
    "\n",
    "pl.plot([0,1,0,0],[0,0,1,0]);\n",
    "pl.plot([0,1/3,0.5,1/3,0.5],[0.5,1/3,0,1/3,0.5]);\n",
    "\n",
    "trig_points = np.array(irs_hcurl[TRIG].points)\n",
    "px,py = trig_points[:,0],trig_points[:,1]\n",
    "pl.plot(px,py,'ob');\n",
    "print(mesh_curl.nface, mesh_curl.ne)"
   ]
  },
  {
   "cell_type": "markdown",
   "id": "8fe84f26",
   "metadata": {},
   "source": [
    "### Exercises\n",
    "* Play around with orders: how many DoFs per vertex (`Mesh.nv`), edge (`Mesh.nedge`) and faces (in 2d equivalent: `Mesh.ne`, `Mesh.nface`)"
   ]
  },
  {
   "cell_type": "markdown",
   "id": "7afb7097",
   "metadata": {},
   "source": [
    "## 3d spaces\n",
    "\n",
    "In three dimensions the spaces are defined similarly. We construct the `HCurl...` spaces.\n",
    "\n"
   ]
  },
  {
   "cell_type": "code",
   "execution_count": 17,
   "id": "465d67a5",
   "metadata": {},
   "outputs": [
    {
     "name": "stdout",
     "output_type": "stream",
     "text": [
      "number of elements = 12\n",
      "###P = 0\n",
      "ndof = 48\n",
      "12 * 4*(3*P^3+6*P^2+4*P+1)=48\n",
      "###P = 1\n",
      "ndof = 672\n",
      "12 * 4*(3*P^3+6*P^2+4*P+1)=672\n",
      "###P = 2\n",
      "ndof = 2736\n",
      "12 * 4*(3*P^3+6*P^2+4*P+1)=2736\n",
      "###P = 3\n",
      "ndof = 7104\n",
      "12 * 4*(3*P^3+6*P^2+4*P+1)=7104\n",
      "###P = 4\n",
      "ndof = 14640\n",
      "12 * 4*(3*P^3+6*P^2+4*P+1)=14640\n"
     ]
    }
   ],
   "source": [
    "mesh = Mesh(unit_cube.GenerateMesh())\n",
    "print(\"number of elements = {}\".format(mesh.ne))\n",
    "for order in range(5):\n",
    "    print(\"###P = {}\".format(order))\n",
    "    print(\"ndof = {}\".format(dcs.HCurlPrimalCells(mesh,order=order).ndof))\n",
    "    print(\"{} * 4*(3*P^3+6*P^2+4*P+1)={}\".format(mesh.ne,mesh.ne*4*(3*order**3+6*order**2+4*order+1)))"
   ]
  },
  {
   "cell_type": "code",
   "execution_count": 18,
   "id": "1d80843d",
   "metadata": {},
   "outputs": [
    {
     "name": "stdout",
     "output_type": "stream",
     "text": [
      "number of elements = 12\n",
      "###P = 0\n",
      "ndof = 52\n",
      "2*nedges*(P+1)+6*nfaces*P*(P+1)+12*nelements*P^2(P+1)=52\n",
      "###P = 1\n",
      "ndof = 752\n",
      "2*nedges*(P+1)+6*nfaces*P*(P+1)+12*nelements*P^2(P+1)=752\n",
      "###P = 2\n",
      "ndof = 2964\n",
      "2*nedges*(P+1)+6*nfaces*P*(P+1)+12*nelements*P^2(P+1)=2964\n",
      "###P = 3\n",
      "ndof = 7552\n",
      "2*nedges*(P+1)+6*nfaces*P*(P+1)+12*nelements*P^2(P+1)=7552\n",
      "###P = 4\n",
      "ndof = 15380\n",
      "2*nedges*(P+1)+6*nfaces*P*(P+1)+12*nelements*P^2(P+1)=15380\n"
     ]
    }
   ],
   "source": [
    "print(\"number of elements = {}\".format(mesh.ne))\n",
    "for order in range(5):\n",
    "    print(\"###P = {}\".format(order))\n",
    "    print(\"ndof = {}\".format(dcs.HCurlDualCells(mesh,order=order).ndof))\n",
    "    print(\"2*nedges*(P+1)+6*nfaces*P*(P+1)+12*nelements*P^2(P+1)={}\".format(2*mesh.nedge*(order+1)+6*mesh.nface*(order+1)*order+12*mesh.ne*order**2*(order+1)))"
   ]
  },
  {
   "cell_type": "code",
   "execution_count": null,
   "id": "4ef146f4",
   "metadata": {},
   "outputs": [],
   "source": []
  }
 ],
 "metadata": {
  "kernelspec": {
   "display_name": "Python 3 (ipykernel)",
   "language": "python",
   "name": "python3"
  },
  "language_info": {
   "codemirror_mode": {
    "name": "ipython",
    "version": 3
   },
   "file_extension": ".py",
   "mimetype": "text/x-python",
   "name": "python",
   "nbconvert_exporter": "python",
   "pygments_lexer": "ipython3",
   "version": "3.10.12"
  }
 },
 "nbformat": 4,
 "nbformat_minor": 5
}
