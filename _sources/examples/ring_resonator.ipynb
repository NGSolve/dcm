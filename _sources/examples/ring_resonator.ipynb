{
 "cells": [
  {
   "cell_type": "markdown",
   "id": "d4a64fd4",
   "metadata": {},
   "source": [
    "# Ring resonator\n",
    "\n",
    "\n",
    "### by M. Wess, J. Schöberl, 2024\n",
    "*This Notebook is part of the `dualcellspaces` [documentation](https://ngsolve.github.io/dcm) for the addon package implementing the Dual Cell method in [NGSolve](https://ngsolve.org).*"
   ]
  },
  {
   "cell_type": "markdown",
   "id": "d3eb1974",
   "metadata": {},
   "source": [
    "We simulate the propagation of an electromagnetic TM-Wave through a ring resonator device using the [dual cell method](https://ngsolve.github.io/dcm/intro.html) add on for [NGSolve](https://ngsolve.org).\n",
    "\n",
    "The desired geometry is sketched below, where the horizontal waveguides are supposed to be unbounded.\n",
    "\n",
    "![title](https://ngsolve.github.io/dcm/_images/ring_resonator_geo.png)\n",
    "\n",
    "The governing equations for the scalar field $p: [0,T]\\to H^1(\\Omega)$ and the vector field $u: [0,T]\\to L^2(\\Omega)^2$ are\n",
    "\n",
    "$$\n",
    "\\begin{aligned}\n",
    "\\partial_t \\int_\\Omega u \\cdot v  &= -\\int_\\Omega \\nabla p\\cdot v \\\\\n",
    "\\partial_t \\int_\\Omega pq &= \\int_\\Omega u \\cdot \\nabla q +\\int_\\Omega fq\n",
    "\\end{aligned}\n",
    "$$\n",
    "for all test functions $q\\in H^1(\\Omega)$, $v\\in L^2(\\Omega)^2$ and a source $f: [0,T]\\to L^2(\\Omega)$.\n",
    "\n",
    "\n",
    "\n",
    "To simulate an unbounded domain we surround the domain $\\Omega$ by an absorbing layer.\n",
    "\n",
    "![title](https://ngsolve.github.io/dcm/_images/ring_resonator_geo_pml.png)\n",
    "\n",
    "The damped [time-domain system](https://markuswess.github.io/waves/pmls/time-domain.html) to be solved is now\n",
    "\n",
    "$$\n",
    "\\begin{aligned}\n",
    "\\partial_t \\int_\\Omega u \\cdot v  &= -\\int_\\Omega \\nabla p\\cdot v -\\alpha\\int_{\\Omega_{tb}\\cup\\Omega_{lr}}u \\cdot n n^\\top v +\\alpha\\int_{\\Omega_{tb}\\cup\\Omega_{lr}}u \\cdot(\\mathbf I-n n^\\top)v +\\alpha\\int_{\\Omega_{tb}\\cup\\Omega_{lr}}\\hat u\\cdot\\left(\\mathbf I- nn^\\top\\right)v  +\\int_{\\Omega_{\\mathrm{int}}}fv \\\\\n",
    "\\partial_t \\int_\\Omega pq &= \\int_\\Omega u \\cdot \\nabla q-\\alpha\\int_{\\Omega_{tb}\\cup\\Omega_{lr}}pq-2\\alpha\\int_{\\Omega_c}pq+\\alpha\\int_{\\Omega_c}\\hat p q\\\\\n",
    "\\partial_t \\int_\\Omega \\hat p\\hat q &=-\\alpha\\int_{\\Omega_c}p\\hat q\\\\\n",
    "\\partial_t \\int_\\Omega \\hat u\\cdot \\hat v &=-\\alpha\\int_{\\Omega_{tb}\\cup\\Omega_{lr}}\\hat u\\cdot\\hat v-\\alpha\\int_{\\Omega_{tb}\\cup\\Omega_{lr}}u \\cdot\\hat v\n",
    "\\end{aligned}\n",
    "$$\n",
    "\n",
    "where $\\alpha > 0$ is the damping parameter and $n$ is the direction of the PML damping, i.e.:\n",
    "$$\n",
    "n = \\begin{cases}\n",
    "(1,0)^\\top,& \\Omega_{lr},\\\\\n",
    "(0,1)^\\top,& \\Omega_{tb}.\n",
    "\\end{cases}\n",
    "$$\n",
    "\n",
    "\n",
    "## Generating the geometry\n",
    "\n",
    "The geometry is given by two parallel wires with a ring-shaped one in between. It is generated in NGSolve using the `SplineGeometry`."
   ]
  },
  {
   "cell_type": "code",
   "execution_count": 1,
   "id": "dddc98df",
   "metadata": {},
   "outputs": [],
   "source": [
    "from ngsolve import *\n",
    "import netgen.geom2d as gm\n",
    "from ngsolve.webgui import Draw\n",
    "import matplotlib.pyplot as pl;\n",
    "import numpy as np\n",
    "import dualcellspaces as dcs\n",
    "\n",
    "\n",
    "geo = gm.SplineGeometry()\n",
    "\n",
    "\n",
    "# geometry parameters\n",
    "xneg  =-0.43\n",
    "xpos  = 0.43\n",
    "yneg  =-0.48\n",
    "ypos  = 0.48\n",
    "\n",
    "wslab = 0.04\n",
    "cringx = 0.0\n",
    "cringy = 0.0\n",
    "rring = 0.4\n",
    "gap   = 0.005\n",
    "\n",
    "\n",
    "pntx = [xneg,xpos]\n",
    "pnty = [yneg,-rring-gap-wslab,-rring-gap,rring+gap,rring+gap+wslab,ypos]\n",
    "\n",
    "\n",
    "pts = []\n",
    "for yi in pnty:\n",
    "    for xi in pntx:\n",
    "        pts.append (geo.AddPoint(xi,yi))\n",
    "\n",
    "\n",
    "### geometry #######################################################\n",
    "#inner rects\n",
    "geo.Append ([\"line\", pts[0], pts[1]], leftdomain=1, rightdomain=0)\n",
    "geo.Append ([\"line\", pts[1], pts[3]], leftdomain=1, rightdomain=0)\n",
    "geo.Append ([\"line\", pts[3], pts[2]], leftdomain=1, rightdomain=2)\n",
    "geo.Append ([\"line\", pts[2], pts[0]], leftdomain=1, rightdomain=0)\n",
    "\n",
    "geo.Append ([\"line\", pts[3], pts[5]], leftdomain=2, rightdomain=0,bc=\"normal_wg_rightbottom\")\n",
    "geo.Append ([\"line\", pts[5], pts[4]], leftdomain=2, rightdomain=3)\n",
    "geo.Append ([\"line\", pts[4], pts[2]], leftdomain=2, rightdomain=0,bc=\"normal_wg_leftbottom\")\n",
    "\n",
    "geo.Append ([\"line\", pts[5], pts[7]], leftdomain=3, rightdomain=0)\n",
    "geo.Append ([\"line\", pts[7], pts[6]], leftdomain=3, rightdomain=4)\n",
    "geo.Append ([\"line\", pts[6], pts[4]], leftdomain=3, rightdomain=0)\n",
    "\n",
    "geo.Append ([\"line\", pts[7], pts[9]], leftdomain=4, rightdomain=0,bc=\"normal_wg_righttop\")\n",
    "geo.Append ([\"line\", pts[9], pts[8]], leftdomain=4, rightdomain=5)\n",
    "geo.Append ([\"line\", pts[8], pts[6]], leftdomain=4, rightdomain=0,bc=\"normal_wg_lefttop\")\n",
    "\n",
    "geo.Append ([\"line\", pts[9], pts[11]], leftdomain=5, rightdomain=0)\n",
    "geo.Append ([\"line\", pts[11], pts[10]], leftdomain=5, rightdomain=0)\n",
    "geo.Append ([\"line\", pts[10], pts[8]], leftdomain=5, rightdomain=0)\n",
    "\n",
    "geo.AddCircle(c=(cringx,cringy), r=rring, leftdomain=6, rightdomain=3)\n",
    "geo.AddCircle(c=(cringx,cringy), r=rring-wslab, leftdomain=7, rightdomain=6)\n",
    "\n",
    "for i in (1,3,5,7):\n",
    "    geo.SetMaterial(i, \"air\")\n",
    "for i in (2,4,6):\n",
    "    geo.SetMaterial(i, \"eps_nine\")\n"
   ]
  },
  {
   "cell_type": "markdown",
   "id": "84ad7c43",
   "metadata": {},
   "source": [
    "This geometry may be meshed, resulting in the following triangulation:"
   ]
  },
  {
   "cell_type": "code",
   "execution_count": 2,
   "id": "a7a68958",
   "metadata": {},
   "outputs": [
    {
     "data": {
      "application/vnd.jupyter.widget-view+json": {
       "model_id": "380ed363078e4261a256c0089f317365",
       "version_major": 2,
       "version_minor": 0
      },
      "text/plain": [
       "WebGuiWidget(layout=Layout(height='50vh', width='100%'), value={'gui_settings': {}, 'ngsolve_version': '6.2.24…"
      ]
     },
     "metadata": {},
     "output_type": "display_data"
    }
   ],
   "source": [
    "mesh_inner = Mesh(geo.GenerateMesh(maxh=0.03))\n",
    "mesh_inner.Curve(4)\n",
    "Draw(mesh_inner);"
   ]
  },
  {
   "cell_type": "markdown",
   "id": "95cfbd15",
   "metadata": {},
   "source": [
    "### PML geometry\n",
    "\n",
    "However, as we also want to use perfectly matched layers to simulate an unbounded domain, we add the PML domains to the mesh as follows"
   ]
  },
  {
   "cell_type": "code",
   "execution_count": 3,
   "id": "64bc6f91",
   "metadata": {},
   "outputs": [
    {
     "data": {
      "application/vnd.jupyter.widget-view+json": {
       "model_id": "fc3bb36345a9407dad22d5cee49678dc",
       "version_major": 2,
       "version_minor": 0
      },
      "text/plain": [
       "WebGuiWidget(layout=Layout(height='50vh', width='100%'), value={'gui_settings': {}, 'ngsolve_version': '6.2.24…"
      ]
     },
     "metadata": {},
     "output_type": "display_data"
    }
   ],
   "source": [
    "pmlwidth = 0.1\n",
    "maxh = 0.03\n",
    "order = 2\n",
    "\n",
    "data = geo.CreatePML(pmlwidth)\n",
    "normals = data[\"normals\"]\n",
    "\n",
    "\n",
    "mesh = Mesh(geo.GenerateMesh(maxh=maxh))\n",
    "mesh.Curve(order)\n",
    "Draw(mesh);"
   ]
  },
  {
   "cell_type": "markdown",
   "id": "be238361",
   "metadata": {},
   "source": [
    "The function `CreatePML` has added the perfectly matched layer domains to our given interior mesh:"
   ]
  },
  {
   "cell_type": "code",
   "execution_count": 4,
   "id": "c4333755",
   "metadata": {},
   "outputs": [
    {
     "name": "stdout",
     "output_type": "stream",
     "text": [
      "default\n",
      "default\n",
      "default\n",
      "default\n",
      "normal_wg_rightbottom\n",
      "default\n",
      "normal_wg_leftbottom\n",
      "default\n",
      "default\n",
      "default\n",
      "normal_wg_righttop\n",
      "default\n",
      "normal_wg_lefttop\n",
      "default\n",
      "default\n",
      "default\n",
      "default\n",
      "default\n",
      "default\n",
      "default\n",
      "default\n",
      "default\n",
      "default\n",
      "default\n"
     ]
    }
   ],
   "source": [
    "for bd in mesh_inner.GetBoundaries(): print(bd)"
   ]
  },
  {
   "cell_type": "code",
   "execution_count": 5,
   "id": "df732dc4",
   "metadata": {},
   "outputs": [
    {
     "name": "stdout",
     "output_type": "stream",
     "text": [
      "air\n",
      "eps_nine\n",
      "air\n",
      "eps_nine\n",
      "air\n",
      "eps_nine\n",
      "air\n",
      "pml_default\n",
      "pml_corner\n",
      "pml_default_duplicate_1\n",
      "pml_normal_wg_rightbottom\n",
      "pml_default_duplicate_2\n",
      "pml_normal_wg_righttop\n",
      "pml_default_duplicate_3\n",
      "pml_corner\n",
      "pml_default_duplicate_4\n",
      "pml_corner\n",
      "pml_default_duplicate_5\n",
      "pml_normal_wg_lefttop\n",
      "pml_default_duplicate_6\n",
      "pml_normal_wg_leftbottom\n",
      "pml_default_duplicate_7\n",
      "pml_corner\n"
     ]
    }
   ],
   "source": [
    "for mat in mesh.GetMaterials(): print(mat)"
   ]
  },
  {
   "cell_type": "markdown",
   "id": "ee75d5cb",
   "metadata": {},
   "source": [
    "## Source\n",
    "\n",
    "We define the source field on the boundary `normal_wg_lefttop`:"
   ]
  },
  {
   "cell_type": "code",
   "execution_count": 6,
   "id": "6074c388",
   "metadata": {},
   "outputs": [
    {
     "data": {
      "image/png": "[encoded data removed]",
      "text/plain": [
       "<Figure size 432x288 with 1 Axes>"
      ]
     },
     "metadata": {
      "needs_background": "light"
     },
     "output_type": "display_data"
    },
    {
     "data": {
      "image/png": "[encoded data removed]",
      "text/plain": [
       "<Figure size 432x288 with 1 Axes>"
      ]
     },
     "metadata": {
      "needs_background": "light"
     },
     "output_type": "display_data"
    }
   ],
   "source": [
    "wavelength = 1.542\n",
    "fcen       = 5/wavelength\n",
    "tpeak      = 1\n",
    "\n",
    "\n",
    "sourcey = CoefficientFunction(  sin(  (pi/wslab)*(y-rring-gap)  )  )\n",
    "\n",
    "fes_facet = FacetFESpace(mesh, order=order+3)\n",
    "gfsource = GridFunction(fes_facet)\n",
    "\n",
    "gfsource.Set(sourcey,definedon=mesh.Boundaries(\"normal_wg_lefttop\"))\n",
    "\n",
    "def t_envelope(t):\n",
    "    if abs((t-tpeak)/tpeak) < 1 :\n",
    "        return 2*exp(1)/sqrt(pi)*np.sin(2*pi*fcen*t)*np.exp (-1/(1-((t-tpeak)/tpeak)**2))\n",
    "    else: return 0.\n",
    "    \n",
    "\n",
    "delta = 0.001\n",
    "ys = np.arange(rring+gap,rring+gap+wslab+delta,delta)\n",
    "\n",
    "pl.xlabel('y');\n",
    "pl.plot(ys,sourcey(mesh(0,ys)));\n",
    "\n",
    "ts = np.arange(0,2,delta)\n",
    "\n",
    "pl.figure();\n",
    "pl.xlabel('t');\n",
    "pl.plot(ts,[t_envelope(t) for t in ts]);"
   ]
  },
  {
   "cell_type": "markdown",
   "id": "c2e2a9d8",
   "metadata": {},
   "source": [
    "## Coefficients\n",
    "\n",
    "We set the material parameters in the waveguides and the background medium:"
   ]
  },
  {
   "cell_type": "code",
   "execution_count": 7,
   "id": "6bf04d1b",
   "metadata": {},
   "outputs": [
    {
     "data": {
      "application/vnd.jupyter.widget-view+json": {
       "model_id": "ce97a5a9fa1147e2ba0a585a56f9f769",
       "version_major": 2,
       "version_minor": 0
      },
      "text/plain": [
       "WebGuiWidget(layout=Layout(height='50vh', width='100%'), value={'gui_settings': {}, 'ngsolve_version': '6.2.24…"
      ]
     },
     "metadata": {},
     "output_type": "display_data"
    }
   ],
   "source": [
    "eps_r = {\"air\" : 1,\n",
    "         \"eps_nine\" : 3**3}\n",
    "\n",
    "for mat in mesh.GetMaterials():\n",
    "    if mat.startswith(\"pml_normal_wg\"):\n",
    "        eps_r[mat] = eps_r[\"eps_nine\"]\n",
    "\n",
    "for mat in mesh.GetMaterials():\n",
    "    if mat not in eps_r:\n",
    "        eps_r[mat] = eps_r[\"air\"]\n",
    "\n",
    "\n",
    "eps = CF([eps_r[mat] for mat in mesh.GetMaterials()])\n",
    "\n",
    "Draw(eps,mesh);"
   ]
  },
  {
   "cell_type": "markdown",
   "id": "e700ed73",
   "metadata": {},
   "source": [
    "We also need the vector of the scaling direction in the non-corner domains of the PML"
   ]
  },
  {
   "cell_type": "code",
   "execution_count": 8,
   "id": "17558c08",
   "metadata": {},
   "outputs": [
    {
     "data": {
      "application/vnd.jupyter.widget-view+json": {
       "model_id": "569ded9b277b43c884bbf6e454556205",
       "version_major": 2,
       "version_minor": 0
      },
      "text/plain": [
       "WebGuiWidget(layout=Layout(height='50vh', width='100%'), value={'gui_settings': {}, 'ngsolve_version': '6.2.24…"
      ]
     },
     "metadata": {},
     "output_type": "display_data"
    }
   ],
   "source": [
    "nvec = { mat : ((normals[mat][0], normals[mat][1]) if mat in normals else (0,0)) for mat in mesh.GetMaterials() }\n",
    "\n",
    "cfn = CF( [CF(nvec[mat]) for mat in mesh.GetMaterials()])\n",
    "\n",
    "Draw(cfn, mesh, vectors = True);"
   ]
  },
  {
   "cell_type": "markdown",
   "id": "9efb14ee",
   "metadata": {},
   "source": [
    "## Spaces\n",
    "\n",
    "Next we set up the spaces "
   ]
  },
  {
   "cell_type": "code",
   "execution_count": 9,
   "id": "f2627694-8182-4be6-9346-c2a7cbc94198",
   "metadata": {},
   "outputs": [
    {
     "name": "stdout",
     "output_type": "stream",
     "text": [
      "scalar dofs = 5.596200e+04\n",
      "vectorial dofs = 1.352700e+05\n",
      "total dofs = 3.824640e+05\n"
     ]
    }
   ],
   "source": [
    "fes_u = dcs.HDivPrimalCells(mesh, order=order)\n",
    "fes_p = dcs.H1DualCells(mesh, order=order, dirichlet=\"outer\")\n",
    "\n",
    "print(\"scalar dofs = {:e}\".format(fes_p.ndof))\n",
    "print(\"vectorial dofs = {:e}\".format(fes_u.ndof))\n",
    "\n",
    "\n",
    "fes = fes_p*fes_p*fes_u*fes_u\n",
    "\n",
    "print(\"total dofs = {:e}\".format(fes.ndof))\n",
    "\n",
    "p,q = fes_p.TnT()\n",
    "u,v = fes_u.TnT()"
   ]
  },
  {
   "cell_type": "markdown",
   "id": "6a56afa8",
   "metadata": {},
   "source": [
    "## Bilinear forms\n",
    "\n",
    "To set up bilinear forms we need to use integration rules which respect our dual mesh. These can be obtained from `dualcellspaces` via `GetIntegrationRules`. We need to integrate over volumes and element boundaries:"
   ]
  },
  {
   "cell_type": "code",
   "execution_count": 10,
   "id": "4f2d99af",
   "metadata": {},
   "outputs": [
    {
     "name": "stdout",
     "output_type": "stream",
     "text": [
      "{<ET.SEGM: 1>: <ngsolve.fem.IntegrationRule object at 0x73d874c3d7f0>, <ET.TRIG: 10>: <ngsolve.fem.IntegrationRule object at 0x73d874c3e130>, <ET.TET: 20>: <ngsolve.fem.IntegrationRule object at 0x73d874c3d970>}\n"
     ]
    }
   ],
   "source": [
    "irs = dcs.GetIntegrationRules(2*order+4)\n",
    "print(irs)\n",
    "\n",
    "dxw = dx(intrules=irs)\n",
    "dSw = dx(element_boundary=True,intrules=irs)"
   ]
  },
  {
   "cell_type": "markdown",
   "id": "1db3cdc2",
   "metadata": {},
   "source": [
    "The discrete divergence contains jump terms on element boundaries (due to the fact that the space $V_h^u$ is discontinuous over element boundaries)."
   ]
  },
  {
   "cell_type": "code",
   "execution_count": 11,
   "id": "74fae6a2",
   "metadata": {},
   "outputs": [],
   "source": [
    "normal = specialcf.normal(2)\n",
    "B = BilinearForm(-p*div(v)*dxw+p*(v*normal)*dSw, geom_free=True).Assemble().mat"
   ]
  },
  {
   "cell_type": "markdown",
   "id": "6e0f780c",
   "metadata": {},
   "source": [
    "All mass matrices are block-diagonal due to the mass lumping. They are implemented efficiently via `FESpace.Mass`:\n"
   ]
  },
  {
   "cell_type": "code",
   "execution_count": 12,
   "id": "a469da3b",
   "metadata": {},
   "outputs": [],
   "source": [
    "invmassp = fes_p.Mass(eps).Inverse(freedofs=fes_p.FreeDofs())\n",
    "invmassu = fes_u.Mass(Id(mesh.dim)).Inverse()\n",
    "\n",
    "pml1d = mesh.Materials(\"pml_default.*|pml_normal.*\")\n",
    "\n",
    "dampp1 = fes_p.Mass (eps, definedon=pml1d)\n",
    "dampp2 = fes_p.Mass (eps, definedon=mesh.Materials(\"pml_corner\"))\n",
    "dampu1 = fes_u.Mass (OuterProduct(cfn,cfn), definedon=pml1d)\n",
    "dampu2 = fes_u.Mass (Id(2)-OuterProduct(cfn,cfn), definedon=pml1d)"
   ]
  },
  {
   "cell_type": "markdown",
   "id": "050da018",
   "metadata": {},
   "source": [
    "To set up the big block-operators we use the embeddings of the small spaces `fes_p, fes_u` into `fes`:"
   ]
  },
  {
   "cell_type": "code",
   "execution_count": 13,
   "id": "3f8229ec",
   "metadata": {},
   "outputs": [],
   "source": [
    "emb_p, emb_phat, emb_u, emb_uhat = fes.embeddings\n",
    "\n",
    "B_big = emb_u @ B @ emb_p.T\n",
    "\n",
    "dampu_big = emb_u @ (dampu1-dampu2) @ emb_u.T - emb_u  @ dampu2 @ emb_uhat.T + emb_uhat @ emb_u.T + emb_uhat @ emb_uhat.T\n",
    "dampp_big = emb_p @ (dampp1+2*dampp2) @ emb_p.T - emb_p @ dampp2 @ emb_phat.T + emb_phat @ emb_p.T\n",
    "\n",
    "invmassp_big = emb_p @ invmassp @ emb_p.T + emb_phat @ emb_phat.T\n",
    "invmassu_big = emb_u @ invmassu @ emb_u.T + emb_uhat @ emb_uhat.T\n"
   ]
  },
  {
   "cell_type": "markdown",
   "id": "8a0e8ca0",
   "metadata": {},
   "source": [
    "Lastly we need the `LinearForm` for the source"
   ]
  },
  {
   "cell_type": "code",
   "execution_count": 14,
   "id": "5d620754",
   "metadata": {},
   "outputs": [],
   "source": [
    "lsrc = LinearForm(gfsource*q * dSw).Assemble()"
   ]
  },
  {
   "cell_type": "markdown",
   "id": "8bc2be81",
   "metadata": {},
   "source": [
    "## Time loop\n",
    "\n",
    "It remains to start the time loop"
   ]
  },
  {
   "cell_type": "code",
   "execution_count": 15,
   "id": "8f36386f",
   "metadata": {},
   "outputs": [
    {
     "data": {
      "application/vnd.jupyter.widget-view+json": {
       "model_id": "0d1d6b03189342c58bc83585805793be",
       "version_major": 2,
       "version_minor": 0
      },
      "text/plain": [
       "WebGuiWidget(layout=Layout(height='50vh', width='100%'), value={'gui_settings': {}, 'ngsolve_version': '6.2.24…"
      ]
     },
     "metadata": {},
     "output_type": "display_data"
    }
   ],
   "source": [
    "gfu = GridFunction(fes)\n",
    "gfp_history = GridFunction(fes.components[0],multidim = 0)\n",
    "\n",
    "gfu.vec[:] = 0\n",
    "tmp = gfu.vec.CreateVector()\n",
    "\n",
    "\n",
    "\n",
    "tau = 5.3e-4 # p=2\n",
    "\n",
    "\n",
    "tend = 6\n",
    "\n",
    "alpha = 30\n",
    "\n",
    "t = 0\n",
    "\n",
    "#scene = Draw(gfu.components[0],autoscale = False, min = -0.05, max = 0.05,order=2,intpoints=dcs.GetWebGuiPoints(2))"
   ]
  },
  {
   "cell_type": "code",
   "execution_count": 16,
   "id": "95edd60c",
   "metadata": {},
   "outputs": [
    {
     "name": "stdout",
     "output_type": "stream",
     "text": [
      "t = 5.985820000000924, \t 3.902223e+07 DoFs/ssss\r"
     ]
    }
   ],
   "source": [
    "from time import time\n",
    "\n",
    "startnow = time()\n",
    "now = time()\n",
    "\n",
    "drawevery = 400\n",
    "drawtime = 0\n",
    "with TaskManager():\n",
    "    while t < tend:\n",
    "        tmp.data = -B_big.T * gfu.vec\n",
    "\n",
    "        if abs(t_envelope(t))>0:\n",
    "            tmp.data += t_envelope(t)*emb_p*lsrc.vec\n",
    "            \n",
    "        tmp.data -= alpha * dampp_big * gfu.vec\n",
    "\n",
    "        gfu.vec.data += tau * invmassp_big * tmp\n",
    "        tmp.data = B_big * gfu.vec\n",
    "        tmp.data -= alpha * dampu_big * gfu.vec\n",
    "\n",
    "        gfu.vec.data += tau * invmassu_big * tmp\n",
    "\n",
    "        t += tau\n",
    "        i += 1\n",
    "        if i%drawevery == 0:\n",
    "            #drawnow = time()\n",
    "            #scene.Redraw()\n",
    "            #print(\"t = {}, \\t {:e} DoFs/s\".format(t,fes.ndof*drawevery/(time()-now)),end = \"\\r\")\n",
    "            #now = time()\n",
    "            gfp_history.AddMultiDimComponent(gfu.components[0].vec)\n",
    "            #drawtime += time()-drawnow\n",
    "\n",
    "computetime = time()-startnow-drawtime\n",
    "dofss = fes.ndof*i/computetime"
   ]
  },
  {
   "cell_type": "code",
   "execution_count": 17,
   "id": "42f459ad",
   "metadata": {},
   "outputs": [
    {
     "data": {
      "application/vnd.jupyter.widget-view+json": {
       "model_id": "d42befb0216d40bdb0b3db9dceac42db",
       "version_major": 2,
       "version_minor": 0
      },
      "text/plain": [
       "WebGuiWidget(layout=Layout(height='50vh', width='100%'), value={'gui_settings': {}, 'ngsolve_version': '6.2.24…"
      ]
     },
     "metadata": {},
     "output_type": "display_data"
    },
    {
     "name": "stdout",
     "output_type": "stream",
     "text": [
      "computed i = 11327 timesteps in 94.66788983345032 seconds with an average of 4.576177e+07 Dofs/s\n"
     ]
    }
   ],
   "source": [
    "Draw(gfp_history,autoscale = False, min = -0.05, max = 0.05,order=2,intpoints=dcs.GetWebGuiPoints(2),animate = True);\n",
    "print(\"computed i = {} timesteps in {} seconds with an average of {:e} Dofs/s\".format(i,computetime,dofss))"
   ]
  },
  {
   "cell_type": "code",
   "execution_count": null,
   "id": "47c96d3e",
   "metadata": {},
   "outputs": [],
   "source": []
  }
 ],
 "metadata": {
  "kernelspec": {
   "display_name": "Python 3 (ipykernel)",
   "language": "python",
   "name": "python3"
  },
  "language_info": {
   "codemirror_mode": {
    "name": "ipython",
    "version": 3
   },
   "file_extension": ".py",
   "mimetype": "text/x-python",
   "name": "python",
   "nbconvert_exporter": "python",
   "pygments_lexer": "ipython3",
   "version": "3.10.12"
  }
 },
 "nbformat": 4,
 "nbformat_minor": 5
}
