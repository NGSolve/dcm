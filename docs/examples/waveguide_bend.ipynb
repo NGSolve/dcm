{
 "cells": [
  {
   "cell_type": "markdown",
   "id": "75f138b9",
   "metadata": {},
   "source": [
    "# Bent electromagnetic 3d waveguide with PML\n",
    "\n",
    "\n",
    "### by M. Wess, 2025\n",
    "*This Notebook is part of the `dualcellspaces` [documentation](https://ngsolve.github.io/dcm) for the addon package implementing the Dual Cell method in [NGSolve](https://ngsolve.org).*"
   ]
  },
  {
   "cell_type": "code",
   "execution_count": 1,
   "id": "legal-sunrise",
   "metadata": {
    "scrolled": true
   },
   "outputs": [],
   "source": [
    "#import libraries\n",
    "\n",
    "from ngsolve import *\n",
    "import dualcellspaces as dcs\n",
    "from ngsolve.webgui import Draw\n",
    "\n",
    "import numpy as np\n",
    "import matplotlib.pyplot as pl"
   ]
  },
  {
   "cell_type": "code",
   "execution_count": 2,
   "id": "4ab0d5bc",
   "metadata": {},
   "outputs": [],
   "source": [
    "#set geometry parameters\n",
    "\n",
    "l_in = 0.2         # length of straight inflow waveguide\n",
    "l_out = 0.2        # length of straight outflow waveguide\n",
    "l_pml = 0.6        # length of pml at in- and outflow\n",
    "\n",
    "d = 0.5            # width of waveguide\n",
    "h = 0.2            # height of waveguide\n",
    "\n",
    "rad = 0.3          # radius of bend\n",
    "\n",
    "\n",
    "# problem parameters\n",
    "\n",
    "c = 5\n",
    "t0 = 1   \n",
    "omega = 10\n",
    "\n",
    "sigma = 10       # pml damping\n",
    "\n",
    "\n",
    "\n",
    "# discretization parameters\n",
    "\n",
    "maxh = 0.1  # mesh size\n",
    "order = 2   # polynomial order\n"
   ]
  },
  {
   "cell_type": "code",
   "execution_count": 3,
   "id": "3cd1708b",
   "metadata": {
    "scrolled": false
   },
   "outputs": [
    {
     "data": {
      "application/vnd.jupyter.widget-view+json": {
       "model_id": "a61fbe8c9cd04f27b6336dc4519da94b",
       "version_major": 2,
       "version_minor": 0
      },
      "text/plain": [
       "WebGuiWidget(layout=Layout(height='50vh', width='100%'), value={'ngsolve_version': 'Netgen x.x', 'mesh_dim': 3…"
      ]
     },
     "metadata": {},
     "output_type": "display_data"
    },
    {
     "data": {
      "text/plain": [
       "BaseWebGuiScene"
      ]
     },
     "execution_count": 3,
     "metadata": {},
     "output_type": "execute_result"
    }
   ],
   "source": [
    "# create geometry with occ\n",
    "\n",
    "from netgen.occ import *\n",
    "wps = []\n",
    "wps.append(MoveTo(-l_pml,-d/2).Rectangle(l_pml,d))\n",
    "wps.append(MoveTo(0,-d/2).Rectangle(l_in,d)) \n",
    "wps.append(MoveTo(l_in,-d/2).Arc(d+rad,90).Rotate(90).Line(d).Rotate(90).Arc(rad,-90).Rotate(90).Line(d))\n",
    "wps.append(MoveTo(l_in+rad,d/2+rad).Rectangle(d,l_out))\n",
    "wps.append(MoveTo(l_in+rad,d/2+rad+l_out).Rectangle(d,l_pml))\n",
    "\n",
    "\n",
    "mats = [\"pmlx\",\"wg\",\"bend\",\"wg\",\"pmly\"]\n",
    "parts = []\n",
    "for wp,mat in zip(wps,mats):\n",
    "    parts.append(wp.Face().Extrude(h).mat(mat))\n",
    "    #Draw(parts[-1])\n",
    "\n",
    "wg3d = Glue(parts)\n",
    "\n",
    "\n",
    "wg3d.faces.Nearest(Pnt(0,0,h/2)).name = \"inflow\"\n",
    "wg3d.faces.Nearest(Pnt(l_in,0,h/2)).name = \"sensor_in\"\n",
    "wg3d.faces.Nearest(Pnt(l_in+rad,d/2+l_out+rad,h/2)).name = \"outflow\"\n",
    "wg3d.faces.Nearest(Pnt(l_in+rad,d/2+rad,h/2)).name = \"sensor_out\"\n",
    "Draw(wg3d)\n"
   ]
  },
  {
   "cell_type": "code",
   "execution_count": 4,
   "id": "97ee7c9f",
   "metadata": {},
   "outputs": [
    {
     "data": {
      "application/vnd.jupyter.widget-view+json": {
       "model_id": "cfb5115a6b24482d8ce816d85b82f1b6",
       "version_major": 2,
       "version_minor": 0
      },
      "text/plain": [
       "WebGuiWidget(layout=Layout(height='50vh', width='100%'), value={'gui_settings': {}, 'ngsolve_version': '6.2.25…"
      ]
     },
     "metadata": {},
     "output_type": "display_data"
    },
    {
     "data": {
      "text/plain": [
       "BaseWebGuiScene"
      ]
     },
     "execution_count": 4,
     "metadata": {},
     "output_type": "execute_result"
    }
   ],
   "source": [
    "# generate mesh\n",
    "geo = OCCGeometry(wg3d)\n",
    "\n",
    "mesh = Mesh(geo.GenerateMesh(maxh=maxh))\n",
    "mesh.Curve(order)\n",
    "Draw(mesh)\n"
   ]
  },
  {
   "cell_type": "code",
   "execution_count": 5,
   "id": "dd3c2554",
   "metadata": {},
   "outputs": [
    {
     "name": "stdout",
     "output_type": "stream",
     "text": [
      "total DoFs: 1283820\n",
      "primary DoFs: 325902 ,  316008\n"
     ]
    }
   ],
   "source": [
    "#define spaces\n",
    "fes_E = dcs.HCurlDualCells3D(mesh, order=order,dirichlet = mesh.Boundaries('default|inflow'))\n",
    "fes_H = dcs.HCurlPrimalCells3D(mesh,order=order)\n",
    "\n",
    "fes_E_pml = dcs.HCurlDualCells3D(mesh, order=order,dirichlet = mesh.Boundaries('default|inflow'))   # definedon not yet implemented\n",
    "fes_H_pml = dcs.HCurlPrimalCells3D(mesh,order=order)\n",
    "\n",
    "fes = fes_E*fes_E_pml*fes_H*fes_H_pml\n",
    "print(\"total DoFs:\",fes.ndof)\n",
    "print(\"primary DoFs:\",fes_E.ndof,\", \",fes_H.ndof)\n",
    "gf = GridFunction(fes)\n",
    "gfE,gfE_, gfH,gfH_ = gf.components\n",
    "\n",
    "\n",
    "#integral symbols with special integration rules\n",
    "dxE = dx(intrules=fes_E.GetIntegrationRules())\n",
    "dsE = ds(intrules=fes_E.GetIntegrationRules(),definedon=mesh.Boundaries('inflow'))\n",
    "dxH = dx(intrules=fes_H.GetIntegrationRules())\n",
    "\n",
    "dxw = dx(intrules=dcs.GetIntegrationRules(2*order+4))\n",
    "dSw = dx(element_boundary=True,intrules=dcs.GetIntegrationRules(2*order+4))\n",
    "\n",
    "\n",
    "#mixed bilinear form\n",
    "E,dE = fes_E.TnT()\n",
    "H,dH = fes_H.TnT()\n",
    "\n",
    "normal = specialcf.normal(3)\n",
    "bf_mixed = BilinearForm(E*curl(dH)*dxw+E*Cross(dH,normal)*dSw, geom_free=True).Assemble().mat"
   ]
  },
  {
   "cell_type": "code",
   "execution_count": 6,
   "id": "17593cd2",
   "metadata": {},
   "outputs": [],
   "source": [
    "innerdofs_E = fes_E.GetDofs(mesh.Materials('default'))\n",
    "pmldofs_E = fes_E.GetDofs(mesh.Materials('pmlx|pmly')) & ~fes_E.GetDofs(mesh.Boundaries('default|inflow'))\n",
    "\n",
    "pmldofs_H = fes_H.GetDofs(mesh.Materials('pmlx|pmly'))"
   ]
  },
  {
   "cell_type": "code",
   "execution_count": 7,
   "id": "5c41c4d6",
   "metadata": {},
   "outputs": [
    {
     "name": "stderr",
     "output_type": "stream",
     "text": [
      "used dof inconsistency\n",
      "(silence this warning by setting BilinearForm(...check_unused=False) )\n"
     ]
    }
   ],
   "source": [
    "#prepare mass operators\n",
    "with TaskManager():\n",
    "    # (inverse) mass\n",
    "    massH_inv = fes_H.Mass(1).Inverse()\n",
    "    bfm_E = fes_E.Mass(1)\n",
    "    massE_inv = bfm_E.Inverse(freedofs=fes_E.FreeDofs())\n",
    "    \n",
    "    # inverse mass in pml only   \n",
    "    massH_inv_pml = fes_H.Mass(1).Inverse(freedofs = pmldofs_H)\n",
    "    massE_inv_pml = fes_E.Mass(1).Inverse(freedofs = pmldofs_E)\n",
    "    \n",
    "    \n",
    "    # surface mass for dirichlet data\n",
    "    massE_surf = BilinearForm(E.Trace()*dE.Trace()*dsE).Assemble().mat\n",
    "    massE_surf = massE_surf.DeleteZeroElements(1e-8)\n",
    "    massE_surf_inv = massE_surf.Inverse(inverse='sparsecholesky',freedofs=fes_E.GetDofs(mesh.Boundaries('inflow')))\n",
    "    \n",
    "    # mass matrices for pml damping\n",
    "    matcfy = CF((-1,0,0,0,1,0,0,0,-1))\n",
    "    matcfx = CF((1,0,0,0,-1,0,0,0,-1))\n",
    "    massH_damp = fes_H.Mass(mesh.MaterialCF({\"default\" : 0*Id(3), \"pmlx\": matcfx, \"pmly\": matcfy}))\n",
    "    massE_damp = fes_E.Mass(mesh.MaterialCF({\"default\" : 0*Id(3), \"pmlx\": matcfx, \"pmly\": matcfy}))\n",
    "    matcfy2 = CF((0,0,0,0,1,0,0,0,0))\n",
    "    matcfx2 = CF((1,0,0,0,0,0,0,0,0))\n",
    "    massH_x = fes_H.Mass(mesh.MaterialCF({\"default\" : 0*Id(3), \"pmlx\": matcfx2, \"pmly\": matcfy2}))\n",
    "    massE_x = fes_E.Mass(mesh.MaterialCF({\"default\" : 0*Id(3), \"pmlx\": matcfx2, \"pmly\": matcfy2}))\n",
    "    "
   ]
  },
  {
   "cell_type": "code",
   "execution_count": 8,
   "id": "38297024",
   "metadata": {},
   "outputs": [
    {
     "data": {
      "application/vnd.jupyter.widget-view+json": {
       "model_id": "4660702bef5c44fea55d647049d6888a",
       "version_major": 2,
       "version_minor": 0
      },
      "text/plain": [
       "WebGuiWidget(layout=Layout(height='50vh', width='100%'), value={'gui_settings': {}, 'ngsolve_version': '6.2.25…"
      ]
     },
     "metadata": {},
     "output_type": "display_data"
    },
    {
     "data": {
      "image/png": "[encoded data removed]",
      "text/plain": [
       "<Figure size 432x288 with 1 Axes>"
      ]
     },
     "metadata": {
      "needs_background": "light"
     },
     "output_type": "display_data"
    }
   ],
   "source": [
    "#dirichlet data\n",
    "ply = pi/d\n",
    "gfe=GridFunction(fes_E)\n",
    "n = 1\n",
    "lfr = LinearForm(InnerProduct(CF((0,0,cos(n*y*ply))),dE.Trace())*dsE).Assemble().vec\n",
    "gfe.vec.data = massE_surf_inv*lfr\n",
    "#print(gfe.vec)\n",
    "\n",
    "#BoundaryProj = Projector(fes_E.GetDofs(mesh.Boundaries('inflow')),True)\n",
    "\n",
    "Draw(gfe)\n",
    "#rhsEfuncscal = lambda t: exp(-c*(t0-t)**2)*sin(omega*t)\n",
    "rhsEfunc = lambda t: exp(-c*(t0-t)**2)*sin(omega*t)*gfe.vec\n",
    "\n",
    "#rhsEfunc = lambda t: exp(-c*(t<t0)*(t0-t)**2)*sin(n*omega*t)*gfe.vec\n",
    "#rhsEfuncscal = lambda t: exp(-c*IfPos(t0-t,1,0)*(t0-t)**2)*sin(n*omega*t)\n",
    "#rhsEfunc = lambda t: 0*gfe.vec\n",
    "\n",
    "#rhsEfunc = lambda t: sin(n*omega*t)*gfe.vec\n",
    "#rhsEfuncscal = lambda t: sin(n*omega*t)\n",
    "\n",
    "\n",
    "\n",
    "#visualize dirichlet data over time\n",
    "ts = np.arange(0,5,0.01)\n",
    "pl.plot(ts,np.exp(-c*(t0-ts)**2)*np.sin(omega*ts))\n",
    "#pl.plot(ts,np.sin(omega*ts))\n",
    "pl.show()"
   ]
  },
  {
   "cell_type": "code",
   "execution_count": 9,
   "id": "4cd4cbc1",
   "metadata": {},
   "outputs": [
    {
     "name": "stdout",
     "output_type": "stream",
     "text": [
      "estimated tau =  0.0010769813797701121\n"
     ]
    }
   ],
   "source": [
    "# estimate cfl condition using power iteration\n",
    "\n",
    "def estimate_tau(mat, maxsteps = 2000, tol = 1e-9):   \n",
    "    vec = mat.CreateColVector()\n",
    "    vec.SetRandom()\n",
    "    vec*=1/vec.Norm()\n",
    "    tmp = vec.CreateVector()\n",
    "    lam = 0\n",
    "    \n",
    "    for i in range(maxsteps):\n",
    "        #print(i,end='\\r')\n",
    "        tmp.data = mat * vec\n",
    "        \n",
    "        lamnew = InnerProduct(tmp,vec)\n",
    "        tau = 2/sqrt(lamnew)\n",
    "        n = tmp.Norm()\n",
    "        res = (tmp-lam*vec).Norm()/lamnew/n\n",
    "        #print(res)\n",
    "        tmp *= 1/n\n",
    "        if res<tol: return tau\n",
    "        vec.data = tmp\n",
    "        lam = lamnew\n",
    "    print(\"did not converge, last res = \",res)\n",
    "    return tau\n",
    "\n",
    "tau = estimate_tau(massE_inv@bf_mixed.T@massH_inv@bf_mixed)\n",
    "tau *= 0.95\n",
    "print(\"estimated tau = \", tau)"
   ]
  },
  {
   "cell_type": "code",
   "execution_count": 10,
   "id": "934048e2",
   "metadata": {
    "scrolled": false
   },
   "outputs": [
    {
     "data": {
      "application/vnd.jupyter.widget-view+json": {
       "model_id": "1280421498bd46a7aff2f08ff7197a72",
       "version_major": 2,
       "version_minor": 0
      },
      "text/plain": [
       "WebGuiWidget(layout=Layout(height='50vh', width='100%'), value={'gui_settings': {'Objects': {'Clipping Plane':…"
      ]
     },
     "metadata": {},
     "output_type": "display_data"
    }
   ],
   "source": [
    "#Draw solution\n",
    "#scenee = Draw (gfE.Operator(\"altshape\")[2], mesh, \"E\", order=2, draw_surf=False, clipping={\"y\":0, \"z\":-1},\n",
    "#               min=-0.5,max=0.5,autoscale=False,points=dcs.GetWebGuiPoints(2),\n",
    "#               settings = {\"Objects\" : {\"Clipping Plane\" : True}}, euler_angles=[0,0,0])\n",
    "\n",
    "# or save solution in multivector for animation\n",
    "gfE_anim = GridFunction(fes_E,multidim=0)"
   ]
  },
  {
   "cell_type": "code",
   "execution_count": 14,
   "id": "f0b56a40",
   "metadata": {},
   "outputs": [
    {
     "name": "stdout",
     "output_type": "stream",
     "text": [
      " time = 4.954114346942407, step = 4600, 4.529587e+07 dofs/ss"
     ]
    }
   ],
   "source": [
    "from time import time\n",
    "\n",
    "drawevery = 100\n",
    "tend = 4\n",
    "\n",
    "t = 0.\n",
    "i = 0\n",
    "\n",
    "gfH.vec[:]=0\n",
    "gfE.vec[:]=0\n",
    "\n",
    "gfH_.vec[:]=0\n",
    "gfE_.vec[:]=0\n",
    "\n",
    "\n",
    "\n",
    "\n",
    "tmpE = gfE.vec.CreateVector()\n",
    "tmpE_ = gfE.vec.CreateVector()\n",
    "tmpH = gfH.vec.CreateVector()\n",
    "tmpH_ = gfH.vec.CreateVector()\n",
    "\n",
    "now = time()\n",
    "timepassed = 0\n",
    "\n",
    "\n",
    "\n",
    "with TaskManager():\n",
    "    gfH.vec.data += -tau/2*massH_inv@bf_mixed*gfE.vec     #initial data in pml is zero, so first step does not need damping terms\n",
    "    while t<tend:\n",
    "        \n",
    "        t+=tau       \n",
    "        i+=1\n",
    "\n",
    "        tmpE.data = tau*(bf_mixed.T*gfH.vec+sigma*(massE_damp*gfE.vec-massE_x*gfE_.vec))+bfm_E*(gfE.vec-rhsEfunc(t))\n",
    "        tmpE_.data = massE_x*gfE.vec-massE_x*gfE_.vec\n",
    "        gfE_.vec.data += tau*sigma*massE_inv_pml*tmpE_\n",
    "\n",
    "        gfE.vec.data = rhsEfunc(t)\n",
    "        gfE.vec.data += massE_inv*tmpE\n",
    "        \n",
    "        tmpH.data = -bf_mixed*gfE.vec+sigma*(massH_damp*gfH.vec-massH_x*gfH_.vec)\n",
    "        tmpH_.data = massH_x*gfH.vec-massH_x*gfH_.vec\n",
    "        gfH_.vec.data += tau*sigma*massH_inv_pml*tmpH_\n",
    "            \n",
    "        gfH.vec.data += tau*massH_inv*tmpH\n",
    "        \n",
    "        if i%drawevery == 0:\n",
    "            timepassed += time()-now\n",
    "            #scenee.Redraw() # for immediate drawing\n",
    "            gfE_anim.AddMultiDimComponent(gfE.vec) #for saving to multidim function\n",
    "           \n",
    "            #print(\"\\r time = {}, step = {}, {:e} dofs/s\".format(t,i,i*fes.ndof/timepassed),end=\"\")\n",
    "\n",
    "            now = time()\n",
    "\n"
   ]
  },
  {
   "cell_type": "code",
   "execution_count": 17,
   "id": "1a8ef152",
   "metadata": {},
   "outputs": [
    {
     "name": "stdout",
     "output_type": "stream",
     "text": [
      "finshed with an average of 4.571928e+07 dofs/s"
     ]
    },
    {
     "data": {
      "application/vnd.jupyter.widget-view+json": {
       "model_id": "2cda18e479e84a32acb13a8631c65ded",
       "version_major": 2,
       "version_minor": 0
      },
      "text/plain": [
       "WebGuiWidget(layout=Layout(height='50vh', width='100%'), value={'gui_settings': {'eval': 2, 'Objects': {'Clipp…"
      ]
     },
     "metadata": {},
     "output_type": "display_data"
    }
   ],
   "source": [
    "print(\"finshed with an average of {:e} dofs/s\".format(i*fes.ndof/timepassed),end=\"\")\n",
    "Draw (gfE_anim, \n",
    "      mesh, \"E\", order=2, draw_surf=False, clipping={\"y\":0, \"z\":-1},\n",
    "      animate = True,\n",
    "      min=-0.5,max=0.5,autoscale=False,points=dcs.GetWebGuiPoints(2),\n",
    "      settings = {\"eval\": 2, \"Objects\" : {\"Clipping Plane\" : True}}, euler_angles=[0,0,0]);      "
   ]
  },
  {
   "cell_type": "code",
   "execution_count": null,
   "id": "3a4525fd",
   "metadata": {},
   "outputs": [],
   "source": []
  }
 ],
 "metadata": {
  "kernelspec": {
   "display_name": "Python 3 (ipykernel)",
   "language": "python",
   "name": "python3"
  },
  "language_info": {
   "codemirror_mode": {
    "name": "ipython",
    "version": 3
   },
   "file_extension": ".py",
   "mimetype": "text/x-python",
   "name": "python",
   "nbconvert_exporter": "python",
   "pygments_lexer": "ipython3",
   "version": "3.10.12"
  }
 },
 "nbformat": 4,
 "nbformat_minor": 5
}
